{
  "nbformat": 4,
  "nbformat_minor": 0,
  "metadata": {
    "colab": {
      "provenance": [],
      "authorship_tag": "ABX9TyOlBzTL0BOdBD/OQGIjMDsK",
      "include_colab_link": true
    },
    "kernelspec": {
      "name": "python3",
      "display_name": "Python 3"
    },
    "language_info": {
      "name": "python"
    }
  },
  "cells": [
    {
      "cell_type": "markdown",
      "metadata": {
        "id": "view-in-github",
        "colab_type": "text"
      },
      "source": [
        "<a href=\"https://colab.research.google.com/github/bahador1/Monte-Carlo-Simulation-for-Shap/blob/main/monteCarloSimulation.ipynb\" target=\"_parent\"><img src=\"https://colab.research.google.com/assets/colab-badge.svg\" alt=\"Open In Colab\"/></a>"
      ]
    },
    {
      "cell_type": "markdown",
      "source": [
        "\n",
        "\n",
        "# What is Monte Carlo simulation?\n",
        "\n",
        "- Monte Carlo simulation is, at its core, a simple technique that uses evolving random sampling to simulate probablty deterministic problems.\n",
        "\n",
        "- Imagine your friend Bob offers you to participate in a game where he throws ten dice simultaneously. If the sum of the dice is between forty and fifty, he gives you ten dollars; else, you have to pay him two dollars.\n",
        "\n",
        "- Should you play this game?\n",
        "\n",
        "- To decide whether to play, you should first figure out the probabilities of winning some money. Yes, you can compute the likelihood of winning the game by hand; however, why struggle with some pen and paper when you can use the computer to solve the problem?\n",
        "\n"
      ],
      "metadata": {
        "id": "mGCUo4xpdJ0Q"
      }
    },
    {
      "cell_type": "code",
      "execution_count": 2,
      "metadata": {
        "id": "L_2Gw9WDb8k5"
      },
      "outputs": [],
      "source": [
        "def throw_and_sum_n_dice(n):\n",
        "    '''\n",
        "    This function throws n dice and sums the results\n",
        "    '''\n",
        "    total = 0\n",
        "    for i in range(0,n):\n",
        "        throw = randint(1,6)\n",
        "        total += throw\n",
        "    return total"
      ]
    }
  ]
}